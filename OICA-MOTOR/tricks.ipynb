{
 "cells": [
  {
   "cell_type": "code",
   "execution_count": 1,
   "metadata": {},
   "outputs": [
    {
     "name": "stdout",
     "output_type": "stream",
     "text": [
      "    name  age  children  bank balance\n",
      "0  Mario   22         1         570.0\n",
      "1    Ann   46         2         460.0\n",
      "2   Kris   21         3         210.0\n",
      "3    Joe   51         4         510.0\n"
     ]
    },
    {
     "data": {
      "text/html": [
       "<style  type=\"text/css\" >\n",
       "#T_88566_row0_col1,#T_88566_row0_col3,#T_88566_row1_col1,#T_88566_row1_col2,#T_88566_row1_col3,#T_88566_row2_col3,#T_88566_row3_col2,#T_88566_row3_col3{\n",
       "            background-color:  lightblue;\n",
       "        }</style><table id=\"T_88566_\" ><thead>    <tr>        <th class=\"blank level0\" ></th>        <th class=\"col_heading level0 col0\" >name</th>        <th class=\"col_heading level0 col1\" >age</th>        <th class=\"col_heading level0 col2\" >children</th>        <th class=\"col_heading level0 col3\" >bank balance</th>    </tr></thead><tbody>\n",
       "                <tr>\n",
       "                        <th id=\"T_88566_level0_row0\" class=\"row_heading level0 row0\" >0</th>\n",
       "                        <td id=\"T_88566_row0_col0\" class=\"data row0 col0\" >Mario</td>\n",
       "                        <td id=\"T_88566_row0_col1\" class=\"data row0 col1\" >22</td>\n",
       "                        <td id=\"T_88566_row0_col2\" class=\"data row0 col2\" >1</td>\n",
       "                        <td id=\"T_88566_row0_col3\" class=\"data row0 col3\" >570.000000</td>\n",
       "            </tr>\n",
       "            <tr>\n",
       "                        <th id=\"T_88566_level0_row1\" class=\"row_heading level0 row1\" >1</th>\n",
       "                        <td id=\"T_88566_row1_col0\" class=\"data row1 col0\" >Ann</td>\n",
       "                        <td id=\"T_88566_row1_col1\" class=\"data row1 col1\" >46</td>\n",
       "                        <td id=\"T_88566_row1_col2\" class=\"data row1 col2\" >2</td>\n",
       "                        <td id=\"T_88566_row1_col3\" class=\"data row1 col3\" >460.000000</td>\n",
       "            </tr>\n",
       "            <tr>\n",
       "                        <th id=\"T_88566_level0_row2\" class=\"row_heading level0 row2\" >2</th>\n",
       "                        <td id=\"T_88566_row2_col0\" class=\"data row2 col0\" >Kris</td>\n",
       "                        <td id=\"T_88566_row2_col1\" class=\"data row2 col1\" >21</td>\n",
       "                        <td id=\"T_88566_row2_col2\" class=\"data row2 col2\" >3</td>\n",
       "                        <td id=\"T_88566_row2_col3\" class=\"data row2 col3\" >210.000000</td>\n",
       "            </tr>\n",
       "            <tr>\n",
       "                        <th id=\"T_88566_level0_row3\" class=\"row_heading level0 row3\" >3</th>\n",
       "                        <td id=\"T_88566_row3_col0\" class=\"data row3 col0\" >Joe</td>\n",
       "                        <td id=\"T_88566_row3_col1\" class=\"data row3 col1\" >51</td>\n",
       "                        <td id=\"T_88566_row3_col2\" class=\"data row3 col2\" >4</td>\n",
       "                        <td id=\"T_88566_row3_col3\" class=\"data row3 col3\" >510.000000</td>\n",
       "            </tr>\n",
       "    </tbody></table>"
      ],
      "text/plain": [
       "<pandas.io.formats.style.Styler at 0x229010a7100>"
      ]
     },
     "execution_count": 1,
     "metadata": {},
     "output_type": "execute_result"
    }
   ],
   "source": [
    "import pandas as pd\n",
    "\n",
    "df = pd.DataFrame({\n",
    "    'name': ['Mario','Ann','Kris','Joe'],\n",
    "    'age': [22 , 46 , 21 , 51],\n",
    "    'children': [1 , 2 , 3 , 4],\n",
    "    'bank balance': [570.0 , 460.0 , 210.0 , 510.0]\n",
    "})\n",
    "\n",
    "print(df)\n",
    "\n",
    "def even_nb_bgc(cell_value):\n",
    "    highlight = 'background-color: lightblue;'\n",
    "    default = ''\n",
    "    \n",
    "    if type(cell_value) in [float,int]:\n",
    "        if cell_value % 2 == 0:\n",
    "            return highlight\n",
    "        return default\n",
    "    \n",
    "df.style.applymap(even_nb_bgc)\n",
    "\n",
    "#df.style\\\n",
    "    #.apply(even_nb_bgc,subset=['name','age','children','bank balance'], axis = 1)\\\n",
    "    #.to_excel('styled.xlsx',engine='openpyxl')"
   ]
  }
 ],
 "metadata": {
  "kernelspec": {
   "display_name": "Python 3",
   "language": "python",
   "name": "python3"
  },
  "language_info": {
   "codemirror_mode": {
    "name": "ipython",
    "version": 3
   },
   "file_extension": ".py",
   "mimetype": "text/x-python",
   "name": "python",
   "nbconvert_exporter": "python",
   "pygments_lexer": "ipython3",
   "version": "3.9.1"
  },
  "orig_nbformat": 4,
  "vscode": {
   "interpreter": {
    "hash": "6f7e9eb9836ce13748ee3e9d7e6a780e4cce23fefc931b0091eaabd67db1698b"
   }
  }
 },
 "nbformat": 4,
 "nbformat_minor": 2
}
