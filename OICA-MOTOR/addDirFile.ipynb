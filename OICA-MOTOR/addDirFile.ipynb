{
 "cells": [
  {
   "cell_type": "code",
   "execution_count": 1,
   "metadata": {},
   "outputs": [],
   "source": [
    "import pandas as pd\n",
    "\n",
    "df = pd.DataFrame({\n",
    "    'Name': ['Mario','Szertan','Pitwen','Joe','Lounder'],\n",
    "    'Surname': ['Lethdy','Kratsh','Pitwen','Joentski','Gergnesous'],\n",
    "    'Age': [22, 33, 12, 11, 9],\n",
    "    'Hobby': ['Football','Culigening','Games','Music','Hacking'],\n",
    "    'Account': [150.23, 6523.73, 12.12, 12.99, 1273.00]\n",
    "})\n",
    "\n",
    "def selected_more(row):\n",
    "    \n",
    "    highlight = 'background-color: green'\n",
    "    default = ''\n",
    "    \n",
    "    if row['Age'] > row['Account']:\n",
    "        return [highlight, default]\n",
    "    elif row['Account'] > row['Age']:\n",
    "        return [default, highlight]\n",
    "    else:\n",
    "        return [default, default]\n",
    "    \n",
    "#def change(x):\n",
    "    #if x == 1: return 'one'\n",
    "    #if x == 2: return 'one'\n",
    "    #if x == 3: return 'one'\n",
    "#df.Age = df.Age.apply(change)\n",
    "# numbers to letters \n",
    "    \n",
    "df.style\\\n",
    "    .apply(selected_more, subset=['Age','Account'], axis = 1)\\\n",
    "    .to_excel('styled.xlsx', engine='openpyxl')"
   ]
  }
 ],
 "metadata": {
  "kernelspec": {
   "display_name": "Python 3",
   "language": "python",
   "name": "python3"
  },
  "language_info": {
   "codemirror_mode": {
    "name": "ipython",
    "version": 3
   },
   "file_extension": ".py",
   "mimetype": "text/x-python",
   "name": "python",
   "nbconvert_exporter": "python",
   "pygments_lexer": "ipython3",
   "version": "3.9.1"
  },
  "orig_nbformat": 4,
  "vscode": {
   "interpreter": {
    "hash": "6f7e9eb9836ce13748ee3e9d7e6a780e4cce23fefc931b0091eaabd67db1698b"
   }
  }
 },
 "nbformat": 4,
 "nbformat_minor": 2
}
