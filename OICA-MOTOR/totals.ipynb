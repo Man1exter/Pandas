{
 "cells": [
  {
   "cell_type": "code",
   "execution_count": 4,
   "metadata": {},
   "outputs": [
    {
     "name": "stdout",
     "output_type": "stream",
     "text": [
      "              A   B   C  col_total =>\n",
      "0             1   4   7            12\n",
      "1             2   5   8            15\n",
      "2             3   6   9            18\n",
      "row_total =>  6  15  24            45\n"
     ]
    }
   ],
   "source": [
    "import pandas as pd\n",
    "\n",
    "df = pd.DataFrame(dict(\n",
    "    A = [1,2,3],\n",
    "    B = [4,5,6],\n",
    "    C = [7,8,9]\n",
    "))\n",
    "\n",
    "df['col_total =>'] = df.apply(lambda x: x.sum(), axis = 1)\n",
    "df.loc['row_total =>'] = df.apply(lambda x: x.sum())\n",
    "\n",
    "print(df)"
   ]
  }
 ],
 "metadata": {
  "kernelspec": {
   "display_name": "Python 3",
   "language": "python",
   "name": "python3"
  },
  "language_info": {
   "codemirror_mode": {
    "name": "ipython",
    "version": 3
   },
   "file_extension": ".py",
   "mimetype": "text/x-python",
   "name": "python",
   "nbconvert_exporter": "python",
   "pygments_lexer": "ipython3",
   "version": "3.9.1"
  },
  "orig_nbformat": 4,
  "vscode": {
   "interpreter": {
    "hash": "6f7e9eb9836ce13748ee3e9d7e6a780e4cce23fefc931b0091eaabd67db1698b"
   }
  }
 },
 "nbformat": 4,
 "nbformat_minor": 2
}
